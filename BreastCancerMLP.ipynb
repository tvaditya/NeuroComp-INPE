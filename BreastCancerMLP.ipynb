{
  "nbformat": 4,
  "nbformat_minor": 0,
  "metadata": {
    "colab": {
      "name": "BreastCancerMLP.ipynb",
      "provenance": [],
      "collapsed_sections": [],
      "include_colab_link": true
    },
    "kernelspec": {
      "name": "python3",
      "display_name": "Python 3"
    }
  },
  "cells": [
    {
      "cell_type": "markdown",
      "metadata": {
        "id": "view-in-github",
        "colab_type": "text"
      },
      "source": [
        "<a href=\"https://colab.research.google.com/github/tvaditya/NeuroComp-INPE/blob/master/BreastCancerMLP.ipynb\" target=\"_parent\"><img src=\"https://colab.research.google.com/assets/colab-badge.svg\" alt=\"Open In Colab\"/></a>"
      ]
    },
    {
      "cell_type": "code",
      "metadata": {
        "id": "EEWUTJLG01SK",
        "colab_type": "code",
        "colab": {
          "base_uri": "https://localhost:8080/",
          "height": 340
        },
        "outputId": "8a738653-c670-4966-bd92-6a61870870ec"
      },
      "source": [
        "!pip install tensorflow-gpu==2.0.0.alpha0"
      ],
      "execution_count": 66,
      "outputs": [
        {
          "output_type": "stream",
          "text": [
            "Requirement already satisfied: tensorflow-gpu==2.0.0.alpha0 in /usr/local/lib/python3.6/dist-packages (2.0.0a0)\n",
            "Requirement already satisfied: protobuf>=3.6.1 in /usr/local/lib/python3.6/dist-packages (from tensorflow-gpu==2.0.0.alpha0) (3.10.0)\n",
            "Requirement already satisfied: tb-nightly<1.14.0a20190302,>=1.14.0a20190301 in /usr/local/lib/python3.6/dist-packages (from tensorflow-gpu==2.0.0.alpha0) (1.14.0a20190301)\n",
            "Requirement already satisfied: gast>=0.2.0 in /usr/local/lib/python3.6/dist-packages (from tensorflow-gpu==2.0.0.alpha0) (0.2.2)\n",
            "Requirement already satisfied: wheel>=0.26 in /usr/local/lib/python3.6/dist-packages (from tensorflow-gpu==2.0.0.alpha0) (0.33.6)\n",
            "Requirement already satisfied: keras-preprocessing>=1.0.5 in /usr/local/lib/python3.6/dist-packages (from tensorflow-gpu==2.0.0.alpha0) (1.1.0)\n",
            "Requirement already satisfied: tf-estimator-nightly<1.14.0.dev2019030116,>=1.14.0.dev2019030115 in /usr/local/lib/python3.6/dist-packages (from tensorflow-gpu==2.0.0.alpha0) (1.14.0.dev2019030115)\n",
            "Requirement already satisfied: astor>=0.6.0 in /usr/local/lib/python3.6/dist-packages (from tensorflow-gpu==2.0.0.alpha0) (0.8.0)\n",
            "Requirement already satisfied: absl-py>=0.7.0 in /usr/local/lib/python3.6/dist-packages (from tensorflow-gpu==2.0.0.alpha0) (0.8.1)\n",
            "Requirement already satisfied: grpcio>=1.8.6 in /usr/local/lib/python3.6/dist-packages (from tensorflow-gpu==2.0.0.alpha0) (1.15.0)\n",
            "Requirement already satisfied: six>=1.10.0 in /usr/local/lib/python3.6/dist-packages (from tensorflow-gpu==2.0.0.alpha0) (1.12.0)\n",
            "Requirement already satisfied: google-pasta>=0.1.2 in /usr/local/lib/python3.6/dist-packages (from tensorflow-gpu==2.0.0.alpha0) (0.1.7)\n",
            "Requirement already satisfied: numpy<2.0,>=1.14.5 in /usr/local/lib/python3.6/dist-packages (from tensorflow-gpu==2.0.0.alpha0) (1.17.3)\n",
            "Requirement already satisfied: keras-applications>=1.0.6 in /usr/local/lib/python3.6/dist-packages (from tensorflow-gpu==2.0.0.alpha0) (1.0.8)\n",
            "Requirement already satisfied: termcolor>=1.1.0 in /usr/local/lib/python3.6/dist-packages (from tensorflow-gpu==2.0.0.alpha0) (1.1.0)\n",
            "Requirement already satisfied: setuptools in /usr/local/lib/python3.6/dist-packages (from protobuf>=3.6.1->tensorflow-gpu==2.0.0.alpha0) (41.4.0)\n",
            "Requirement already satisfied: werkzeug>=0.11.15 in /usr/local/lib/python3.6/dist-packages (from tb-nightly<1.14.0a20190302,>=1.14.0a20190301->tensorflow-gpu==2.0.0.alpha0) (0.16.0)\n",
            "Requirement already satisfied: markdown>=2.6.8 in /usr/local/lib/python3.6/dist-packages (from tb-nightly<1.14.0a20190302,>=1.14.0a20190301->tensorflow-gpu==2.0.0.alpha0) (3.1.1)\n",
            "Requirement already satisfied: h5py in /usr/local/lib/python3.6/dist-packages (from keras-applications>=1.0.6->tensorflow-gpu==2.0.0.alpha0) (2.8.0)\n"
          ],
          "name": "stdout"
        }
      ]
    },
    {
      "cell_type": "code",
      "metadata": {
        "id": "BGi83H231edW",
        "colab_type": "code",
        "colab": {}
      },
      "source": [
        "from sklearn import datasets\n",
        "from sklearn.model_selection import train_test_split\n",
        "from sklearn.model_selection import KFold\n",
        "from sklearn.model_selection import cross_val_score\n",
        "from sklearn.metrics import confusion_matrix, accuracy_score"
      ],
      "execution_count": 0,
      "outputs": []
    },
    {
      "cell_type": "code",
      "metadata": {
        "id": "1a86FEbQ21zf",
        "colab_type": "code",
        "colab": {}
      },
      "source": [
        "import tensorflow as tf\n",
        "import pandas as pd\n",
        "import numpy as np\n",
        "import seaborn as sns\n",
        "import matplotlib.pyplot as plt"
      ],
      "execution_count": 0,
      "outputs": []
    },
    {
      "cell_type": "code",
      "metadata": {
        "id": "FkXcitDI1nPl",
        "colab_type": "code",
        "colab": {}
      },
      "source": [
        "ds = datasets.load_breast_cancer()\n",
        "X = ds.data\n",
        "y = ds.target"
      ],
      "execution_count": 0,
      "outputs": []
    },
    {
      "cell_type": "code",
      "metadata": {
        "id": "6OT8cExV2boA",
        "colab_type": "code",
        "colab": {}
      },
      "source": [
        "X_train, X_test, y_train, y_test = train_test_split(X, y, stratify=y, test_size = 0.3, random_state=76)"
      ],
      "execution_count": 0,
      "outputs": []
    },
    {
      "cell_type": "code",
      "metadata": {
        "id": "ZNDHe0fJ3Aph",
        "colab_type": "code",
        "colab": {
          "base_uri": "https://localhost:8080/",
          "height": 51
        },
        "outputId": "af364eb1-2068-47c7-e212-e7ce065d0306"
      },
      "source": [
        "print(X_train.shape)\n",
        "print(X_test.shape)"
      ],
      "execution_count": 71,
      "outputs": [
        {
          "output_type": "stream",
          "text": [
            "(398, 30)\n",
            "(171, 30)\n"
          ],
          "name": "stdout"
        }
      ]
    },
    {
      "cell_type": "code",
      "metadata": {
        "id": "JcNZhcpU3Nq2",
        "colab_type": "code",
        "colab": {
          "base_uri": "https://localhost:8080/",
          "height": 51
        },
        "outputId": "37a85084-0e15-48cf-a0f4-fcd13e295bf7"
      },
      "source": [
        "print(y.mean())\n",
        "print(y_train.mean())"
      ],
      "execution_count": 72,
      "outputs": [
        {
          "output_type": "stream",
          "text": [
            "0.6274165202108963\n",
            "0.628140703517588\n"
          ],
          "name": "stdout"
        }
      ]
    },
    {
      "cell_type": "code",
      "metadata": {
        "id": "kP3I2Wsx3mZk",
        "colab_type": "code",
        "colab": {}
      },
      "source": [
        ""
      ],
      "execution_count": 0,
      "outputs": []
    },
    {
      "cell_type": "code",
      "metadata": {
        "id": "1NZdwW2U3aru",
        "colab_type": "code",
        "colab": {}
      },
      "source": [
        "model = tf.keras.models.Sequential()\n",
        "model.add(tf.keras.layers.Dense(units=16, activation='relu', input_shape=(30, )))\n",
        "model.add(tf.keras.layers.Dropout(0.1))\n",
        "model.add(tf.keras.layers.Dense(units=16, activation ='relu'))\n",
        "model.add(tf.keras.layers.Dropout(0.1))\n",
        "model.add(tf.keras.layers.Dense(units=1, activation='sigmoid'))"
      ],
      "execution_count": 0,
      "outputs": []
    },
    {
      "cell_type": "code",
      "metadata": {
        "id": "wOSLHuP5315s",
        "colab_type": "code",
        "colab": {}
      },
      "source": [
        "model.compile(loss='binary_crossentropy', optimizer='adam', metrics=['accuracy'])"
      ],
      "execution_count": 0,
      "outputs": []
    },
    {
      "cell_type": "code",
      "metadata": {
        "id": "aPBkilfY37w1",
        "colab_type": "code",
        "colab": {
          "base_uri": "https://localhost:8080/",
          "height": 1000
        },
        "outputId": "d26cf413-eb9b-42b2-9a1d-adadc76b0725"
      },
      "source": [
        "epochs_hist = model.fit(X_train, y_train, epochs = 100, batch_size = 50, validation_split = 0.3)"
      ],
      "execution_count": 75,
      "outputs": [
        {
          "output_type": "stream",
          "text": [
            "Train on 278 samples, validate on 120 samples\n",
            "Epoch 1/100\n",
            "278/278 [==============================] - 0s 1ms/sample - loss: 19.8456 - accuracy: 0.5000 - val_loss: 2.1120 - val_accuracy: 0.6500\n",
            "Epoch 2/100\n",
            "278/278 [==============================] - 0s 70us/sample - loss: 17.7678 - accuracy: 0.5863 - val_loss: 2.8632 - val_accuracy: 0.7417\n",
            "Epoch 3/100\n",
            "278/278 [==============================] - 0s 68us/sample - loss: 17.1181 - accuracy: 0.6223 - val_loss: 3.5081 - val_accuracy: 0.7667\n",
            "Epoch 4/100\n",
            "278/278 [==============================] - 0s 69us/sample - loss: 9.4272 - accuracy: 0.6583 - val_loss: 4.7383 - val_accuracy: 0.7583\n",
            "Epoch 5/100\n",
            "278/278 [==============================] - 0s 57us/sample - loss: 8.9633 - accuracy: 0.7050 - val_loss: 3.8603 - val_accuracy: 0.8000\n",
            "Epoch 6/100\n",
            "278/278 [==============================] - 0s 77us/sample - loss: 11.9084 - accuracy: 0.7050 - val_loss: 2.9952 - val_accuracy: 0.8083\n",
            "Epoch 7/100\n",
            "278/278 [==============================] - 0s 72us/sample - loss: 11.8106 - accuracy: 0.6799 - val_loss: 2.5077 - val_accuracy: 0.8333\n",
            "Epoch 8/100\n",
            "278/278 [==============================] - 0s 88us/sample - loss: 8.3463 - accuracy: 0.7194 - val_loss: 3.3796 - val_accuracy: 0.8250\n",
            "Epoch 9/100\n",
            "278/278 [==============================] - 0s 63us/sample - loss: 8.6765 - accuracy: 0.7302 - val_loss: 3.0470 - val_accuracy: 0.8333\n",
            "Epoch 10/100\n",
            "278/278 [==============================] - 0s 68us/sample - loss: 10.0636 - accuracy: 0.7158 - val_loss: 3.0153 - val_accuracy: 0.8417\n",
            "Epoch 11/100\n",
            "278/278 [==============================] - 0s 62us/sample - loss: 7.6177 - accuracy: 0.7302 - val_loss: 2.4206 - val_accuracy: 0.8333\n",
            "Epoch 12/100\n",
            "278/278 [==============================] - 0s 58us/sample - loss: 7.2567 - accuracy: 0.7194 - val_loss: 2.4964 - val_accuracy: 0.8333\n",
            "Epoch 13/100\n",
            "278/278 [==============================] - 0s 61us/sample - loss: 6.0300 - accuracy: 0.7518 - val_loss: 2.8533 - val_accuracy: 0.8250\n",
            "Epoch 14/100\n",
            "278/278 [==============================] - 0s 64us/sample - loss: 6.1641 - accuracy: 0.7734 - val_loss: 3.0510 - val_accuracy: 0.8333\n",
            "Epoch 15/100\n",
            "278/278 [==============================] - 0s 75us/sample - loss: 3.2453 - accuracy: 0.7806 - val_loss: 2.5079 - val_accuracy: 0.8333\n",
            "Epoch 16/100\n",
            "278/278 [==============================] - 0s 87us/sample - loss: 4.0418 - accuracy: 0.7914 - val_loss: 1.9560 - val_accuracy: 0.8333\n",
            "Epoch 17/100\n",
            "278/278 [==============================] - 0s 61us/sample - loss: 3.9096 - accuracy: 0.7194 - val_loss: 2.0881 - val_accuracy: 0.8250\n",
            "Epoch 18/100\n",
            "278/278 [==============================] - 0s 101us/sample - loss: 5.1578 - accuracy: 0.7554 - val_loss: 2.5635 - val_accuracy: 0.8417\n",
            "Epoch 19/100\n",
            "278/278 [==============================] - 0s 69us/sample - loss: 3.2180 - accuracy: 0.7806 - val_loss: 3.0553 - val_accuracy: 0.8417\n",
            "Epoch 20/100\n",
            "278/278 [==============================] - 0s 63us/sample - loss: 2.9971 - accuracy: 0.7950 - val_loss: 3.1265 - val_accuracy: 0.8333\n",
            "Epoch 21/100\n",
            "278/278 [==============================] - 0s 85us/sample - loss: 3.5924 - accuracy: 0.7698 - val_loss: 2.6564 - val_accuracy: 0.8417\n",
            "Epoch 22/100\n",
            "278/278 [==============================] - 0s 65us/sample - loss: 3.7359 - accuracy: 0.7914 - val_loss: 2.1392 - val_accuracy: 0.8250\n",
            "Epoch 23/100\n",
            "278/278 [==============================] - 0s 87us/sample - loss: 2.9778 - accuracy: 0.7914 - val_loss: 1.8123 - val_accuracy: 0.8333\n",
            "Epoch 24/100\n",
            "278/278 [==============================] - 0s 87us/sample - loss: 2.5464 - accuracy: 0.8201 - val_loss: 1.9974 - val_accuracy: 0.8417\n",
            "Epoch 25/100\n",
            "278/278 [==============================] - 0s 103us/sample - loss: 3.1097 - accuracy: 0.7914 - val_loss: 2.1781 - val_accuracy: 0.8417\n",
            "Epoch 26/100\n",
            "278/278 [==============================] - 0s 72us/sample - loss: 2.4230 - accuracy: 0.7986 - val_loss: 2.0104 - val_accuracy: 0.8417\n",
            "Epoch 27/100\n",
            "278/278 [==============================] - 0s 77us/sample - loss: 2.5208 - accuracy: 0.8094 - val_loss: 1.6089 - val_accuracy: 0.8500\n",
            "Epoch 28/100\n",
            "278/278 [==============================] - 0s 71us/sample - loss: 2.0368 - accuracy: 0.8094 - val_loss: 1.4287 - val_accuracy: 0.8417\n",
            "Epoch 29/100\n",
            "278/278 [==============================] - 0s 77us/sample - loss: 2.3001 - accuracy: 0.7590 - val_loss: 1.4489 - val_accuracy: 0.8500\n",
            "Epoch 30/100\n",
            "278/278 [==============================] - 0s 54us/sample - loss: 1.8062 - accuracy: 0.7986 - val_loss: 1.4529 - val_accuracy: 0.8583\n",
            "Epoch 31/100\n",
            "278/278 [==============================] - 0s 72us/sample - loss: 1.8672 - accuracy: 0.8201 - val_loss: 1.3840 - val_accuracy: 0.8583\n",
            "Epoch 32/100\n",
            "278/278 [==============================] - 0s 69us/sample - loss: 2.2188 - accuracy: 0.7914 - val_loss: 1.3953 - val_accuracy: 0.8417\n",
            "Epoch 33/100\n",
            "278/278 [==============================] - 0s 67us/sample - loss: 1.4900 - accuracy: 0.8237 - val_loss: 1.5130 - val_accuracy: 0.8500\n",
            "Epoch 34/100\n",
            "278/278 [==============================] - 0s 59us/sample - loss: 1.2568 - accuracy: 0.8597 - val_loss: 1.4401 - val_accuracy: 0.8583\n",
            "Epoch 35/100\n",
            "278/278 [==============================] - 0s 88us/sample - loss: 1.6535 - accuracy: 0.8165 - val_loss: 1.4459 - val_accuracy: 0.8583\n",
            "Epoch 36/100\n",
            "278/278 [==============================] - 0s 60us/sample - loss: 1.7715 - accuracy: 0.8129 - val_loss: 1.4638 - val_accuracy: 0.8583\n",
            "Epoch 37/100\n",
            "278/278 [==============================] - 0s 67us/sample - loss: 1.2823 - accuracy: 0.8561 - val_loss: 1.3628 - val_accuracy: 0.8583\n",
            "Epoch 38/100\n",
            "278/278 [==============================] - 0s 67us/sample - loss: 1.2432 - accuracy: 0.8237 - val_loss: 1.2234 - val_accuracy: 0.8583\n",
            "Epoch 39/100\n",
            "278/278 [==============================] - 0s 66us/sample - loss: 1.4359 - accuracy: 0.8417 - val_loss: 1.1225 - val_accuracy: 0.8583\n",
            "Epoch 40/100\n",
            "278/278 [==============================] - 0s 85us/sample - loss: 1.1181 - accuracy: 0.8525 - val_loss: 1.1716 - val_accuracy: 0.8750\n",
            "Epoch 41/100\n",
            "278/278 [==============================] - 0s 71us/sample - loss: 1.1742 - accuracy: 0.8669 - val_loss: 0.9872 - val_accuracy: 0.8750\n",
            "Epoch 42/100\n",
            "278/278 [==============================] - 0s 75us/sample - loss: 1.1356 - accuracy: 0.8237 - val_loss: 0.8332 - val_accuracy: 0.8833\n",
            "Epoch 43/100\n",
            "278/278 [==============================] - 0s 58us/sample - loss: 1.2390 - accuracy: 0.8345 - val_loss: 0.7750 - val_accuracy: 0.8917\n",
            "Epoch 44/100\n",
            "278/278 [==============================] - 0s 76us/sample - loss: 0.8835 - accuracy: 0.8633 - val_loss: 0.7494 - val_accuracy: 0.8917\n",
            "Epoch 45/100\n",
            "278/278 [==============================] - 0s 92us/sample - loss: 0.9841 - accuracy: 0.8345 - val_loss: 0.8667 - val_accuracy: 0.8750\n",
            "Epoch 46/100\n",
            "278/278 [==============================] - 0s 68us/sample - loss: 0.9746 - accuracy: 0.8561 - val_loss: 0.8265 - val_accuracy: 0.8750\n",
            "Epoch 47/100\n",
            "278/278 [==============================] - 0s 78us/sample - loss: 0.7422 - accuracy: 0.8273 - val_loss: 0.7446 - val_accuracy: 0.8750\n",
            "Epoch 48/100\n",
            "278/278 [==============================] - 0s 78us/sample - loss: 1.0572 - accuracy: 0.8561 - val_loss: 0.6909 - val_accuracy: 0.8667\n",
            "Epoch 49/100\n",
            "278/278 [==============================] - 0s 75us/sample - loss: 0.8866 - accuracy: 0.8237 - val_loss: 0.6306 - val_accuracy: 0.8917\n",
            "Epoch 50/100\n",
            "278/278 [==============================] - 0s 57us/sample - loss: 0.9879 - accuracy: 0.7950 - val_loss: 0.5921 - val_accuracy: 0.8833\n",
            "Epoch 51/100\n",
            "278/278 [==============================] - 0s 61us/sample - loss: 0.9570 - accuracy: 0.8345 - val_loss: 0.5656 - val_accuracy: 0.8833\n",
            "Epoch 52/100\n",
            "278/278 [==============================] - 0s 64us/sample - loss: 0.5925 - accuracy: 0.8453 - val_loss: 0.5573 - val_accuracy: 0.8917\n",
            "Epoch 53/100\n",
            "278/278 [==============================] - 0s 63us/sample - loss: 0.5136 - accuracy: 0.8741 - val_loss: 0.5440 - val_accuracy: 0.8917\n",
            "Epoch 54/100\n",
            "278/278 [==============================] - 0s 82us/sample - loss: 0.5455 - accuracy: 0.8777 - val_loss: 0.5256 - val_accuracy: 0.9000\n",
            "Epoch 55/100\n",
            "278/278 [==============================] - 0s 77us/sample - loss: 0.5556 - accuracy: 0.8849 - val_loss: 0.5371 - val_accuracy: 0.8917\n",
            "Epoch 56/100\n",
            "278/278 [==============================] - 0s 81us/sample - loss: 0.5722 - accuracy: 0.8777 - val_loss: 0.5601 - val_accuracy: 0.8917\n",
            "Epoch 57/100\n",
            "278/278 [==============================] - 0s 88us/sample - loss: 0.8581 - accuracy: 0.8525 - val_loss: 0.5200 - val_accuracy: 0.8917\n",
            "Epoch 58/100\n",
            "278/278 [==============================] - 0s 66us/sample - loss: 0.6184 - accuracy: 0.8669 - val_loss: 0.4947 - val_accuracy: 0.8833\n",
            "Epoch 59/100\n",
            "278/278 [==============================] - 0s 80us/sample - loss: 0.5936 - accuracy: 0.8561 - val_loss: 0.4580 - val_accuracy: 0.8917\n",
            "Epoch 60/100\n",
            "278/278 [==============================] - 0s 84us/sample - loss: 0.5316 - accuracy: 0.8417 - val_loss: 0.4221 - val_accuracy: 0.9000\n",
            "Epoch 61/100\n",
            "278/278 [==============================] - 0s 70us/sample - loss: 0.4676 - accuracy: 0.8813 - val_loss: 0.4104 - val_accuracy: 0.9000\n",
            "Epoch 62/100\n",
            "278/278 [==============================] - 0s 71us/sample - loss: 0.4578 - accuracy: 0.8561 - val_loss: 0.3993 - val_accuracy: 0.8917\n",
            "Epoch 63/100\n",
            "278/278 [==============================] - 0s 71us/sample - loss: 0.3819 - accuracy: 0.8849 - val_loss: 0.4050 - val_accuracy: 0.8917\n",
            "Epoch 64/100\n",
            "278/278 [==============================] - 0s 91us/sample - loss: 0.4522 - accuracy: 0.8921 - val_loss: 0.4010 - val_accuracy: 0.8917\n",
            "Epoch 65/100\n",
            "278/278 [==============================] - 0s 70us/sample - loss: 0.5283 - accuracy: 0.8633 - val_loss: 0.4157 - val_accuracy: 0.8833\n",
            "Epoch 66/100\n",
            "278/278 [==============================] - 0s 79us/sample - loss: 0.4555 - accuracy: 0.8741 - val_loss: 0.4390 - val_accuracy: 0.8917\n",
            "Epoch 67/100\n",
            "278/278 [==============================] - 0s 75us/sample - loss: 0.5124 - accuracy: 0.8777 - val_loss: 0.4582 - val_accuracy: 0.8833\n",
            "Epoch 68/100\n",
            "278/278 [==============================] - 0s 62us/sample - loss: 0.4840 - accuracy: 0.8993 - val_loss: 0.4222 - val_accuracy: 0.8917\n",
            "Epoch 69/100\n",
            "278/278 [==============================] - 0s 67us/sample - loss: 0.4604 - accuracy: 0.8849 - val_loss: 0.3819 - val_accuracy: 0.8917\n",
            "Epoch 70/100\n",
            "278/278 [==============================] - 0s 60us/sample - loss: 0.4117 - accuracy: 0.8993 - val_loss: 0.3664 - val_accuracy: 0.8917\n",
            "Epoch 71/100\n",
            "278/278 [==============================] - 0s 66us/sample - loss: 0.3689 - accuracy: 0.8993 - val_loss: 0.3638 - val_accuracy: 0.8917\n",
            "Epoch 72/100\n",
            "278/278 [==============================] - 0s 68us/sample - loss: 0.4567 - accuracy: 0.9029 - val_loss: 0.3566 - val_accuracy: 0.8917\n",
            "Epoch 73/100\n",
            "278/278 [==============================] - 0s 74us/sample - loss: 0.3355 - accuracy: 0.9101 - val_loss: 0.3589 - val_accuracy: 0.8917\n",
            "Epoch 74/100\n",
            "278/278 [==============================] - 0s 57us/sample - loss: 0.3849 - accuracy: 0.9029 - val_loss: 0.3638 - val_accuracy: 0.8917\n",
            "Epoch 75/100\n",
            "278/278 [==============================] - 0s 65us/sample - loss: 0.4573 - accuracy: 0.8993 - val_loss: 0.3597 - val_accuracy: 0.8917\n",
            "Epoch 76/100\n",
            "278/278 [==============================] - 0s 57us/sample - loss: 0.3117 - accuracy: 0.9101 - val_loss: 0.3701 - val_accuracy: 0.8917\n",
            "Epoch 77/100\n",
            "278/278 [==============================] - 0s 64us/sample - loss: 0.4082 - accuracy: 0.8921 - val_loss: 0.3725 - val_accuracy: 0.9000\n",
            "Epoch 78/100\n",
            "278/278 [==============================] - 0s 56us/sample - loss: 0.3482 - accuracy: 0.8957 - val_loss: 0.3723 - val_accuracy: 0.9000\n",
            "Epoch 79/100\n",
            "278/278 [==============================] - 0s 68us/sample - loss: 0.3819 - accuracy: 0.8921 - val_loss: 0.3780 - val_accuracy: 0.8917\n",
            "Epoch 80/100\n",
            "278/278 [==============================] - 0s 60us/sample - loss: 0.3308 - accuracy: 0.9137 - val_loss: 0.3865 - val_accuracy: 0.8917\n",
            "Epoch 81/100\n",
            "278/278 [==============================] - 0s 68us/sample - loss: 0.3846 - accuracy: 0.8885 - val_loss: 0.3818 - val_accuracy: 0.8833\n",
            "Epoch 82/100\n",
            "278/278 [==============================] - 0s 78us/sample - loss: 0.4220 - accuracy: 0.8885 - val_loss: 0.3745 - val_accuracy: 0.8750\n",
            "Epoch 83/100\n",
            "278/278 [==============================] - 0s 58us/sample - loss: 0.3946 - accuracy: 0.8813 - val_loss: 0.3706 - val_accuracy: 0.8833\n",
            "Epoch 84/100\n",
            "278/278 [==============================] - 0s 74us/sample - loss: 0.3539 - accuracy: 0.9065 - val_loss: 0.3617 - val_accuracy: 0.8833\n",
            "Epoch 85/100\n",
            "278/278 [==============================] - 0s 79us/sample - loss: 0.3897 - accuracy: 0.9137 - val_loss: 0.3579 - val_accuracy: 0.8750\n",
            "Epoch 86/100\n",
            "278/278 [==============================] - 0s 75us/sample - loss: 0.3560 - accuracy: 0.8885 - val_loss: 0.3501 - val_accuracy: 0.8750\n",
            "Epoch 87/100\n",
            "278/278 [==============================] - 0s 85us/sample - loss: 0.3667 - accuracy: 0.8921 - val_loss: 0.3475 - val_accuracy: 0.8750\n",
            "Epoch 88/100\n",
            "278/278 [==============================] - 0s 64us/sample - loss: 0.3932 - accuracy: 0.8921 - val_loss: 0.3491 - val_accuracy: 0.8833\n",
            "Epoch 89/100\n",
            "278/278 [==============================] - 0s 70us/sample - loss: 0.3167 - accuracy: 0.8885 - val_loss: 0.3672 - val_accuracy: 0.8917\n",
            "Epoch 90/100\n",
            "278/278 [==============================] - 0s 59us/sample - loss: 0.3863 - accuracy: 0.9101 - val_loss: 0.3591 - val_accuracy: 0.8833\n",
            "Epoch 91/100\n",
            "278/278 [==============================] - 0s 60us/sample - loss: 0.3659 - accuracy: 0.9029 - val_loss: 0.3499 - val_accuracy: 0.8833\n",
            "Epoch 92/100\n",
            "278/278 [==============================] - 0s 70us/sample - loss: 0.3373 - accuracy: 0.8957 - val_loss: 0.3427 - val_accuracy: 0.8833\n",
            "Epoch 93/100\n",
            "278/278 [==============================] - 0s 56us/sample - loss: 0.3874 - accuracy: 0.8993 - val_loss: 0.3432 - val_accuracy: 0.8833\n",
            "Epoch 94/100\n",
            "278/278 [==============================] - 0s 61us/sample - loss: 0.3737 - accuracy: 0.8849 - val_loss: 0.3546 - val_accuracy: 0.8917\n",
            "Epoch 95/100\n",
            "278/278 [==============================] - 0s 55us/sample - loss: 0.4364 - accuracy: 0.8993 - val_loss: 0.3646 - val_accuracy: 0.8833\n",
            "Epoch 96/100\n",
            "278/278 [==============================] - 0s 68us/sample - loss: 0.3877 - accuracy: 0.9065 - val_loss: 0.3641 - val_accuracy: 0.8833\n",
            "Epoch 97/100\n",
            "278/278 [==============================] - 0s 74us/sample - loss: 0.3871 - accuracy: 0.9101 - val_loss: 0.3549 - val_accuracy: 0.8833\n",
            "Epoch 98/100\n",
            "278/278 [==============================] - 0s 64us/sample - loss: 0.3241 - accuracy: 0.9029 - val_loss: 0.3518 - val_accuracy: 0.8833\n",
            "Epoch 99/100\n",
            "278/278 [==============================] - 0s 56us/sample - loss: 0.3156 - accuracy: 0.9101 - val_loss: 0.3570 - val_accuracy: 0.8833\n",
            "Epoch 100/100\n",
            "278/278 [==============================] - 0s 68us/sample - loss: 0.3224 - accuracy: 0.9137 - val_loss: 0.3707 - val_accuracy: 0.8833\n"
          ],
          "name": "stdout"
        }
      ]
    },
    {
      "cell_type": "code",
      "metadata": {
        "id": "LL9Dos_c5qBT",
        "colab_type": "code",
        "colab": {
          "base_uri": "https://localhost:8080/",
          "height": 34
        },
        "outputId": "6d21cfde-088c-408c-88a1-50fc5b4fd9c9"
      },
      "source": [
        "epochs_hist.history.keys()"
      ],
      "execution_count": 76,
      "outputs": [
        {
          "output_type": "execute_result",
          "data": {
            "text/plain": [
              "dict_keys(['loss', 'accuracy', 'val_loss', 'val_accuracy'])"
            ]
          },
          "metadata": {
            "tags": []
          },
          "execution_count": 76
        }
      ]
    },
    {
      "cell_type": "code",
      "metadata": {
        "id": "WHxACpak5p4S",
        "colab_type": "code",
        "colab": {
          "base_uri": "https://localhost:8080/",
          "height": 312
        },
        "outputId": "95b25474-554e-4d82-d61b-ce6253c1a232"
      },
      "source": [
        "plt.plot(epochs_hist.history['loss'])\n",
        "plt.plot(epochs_hist.history['val_loss'])\n",
        "plt.title('Model Loss Progress During Training')\n",
        "plt.xlabel('Epoch')\n",
        "plt.ylabel('Training and Validation Loss')\n",
        "plt.legend(['Training Loss', 'Validation Loss'])"
      ],
      "execution_count": 77,
      "outputs": [
        {
          "output_type": "execute_result",
          "data": {
            "text/plain": [
              "<matplotlib.legend.Legend at 0x7f3946001d68>"
            ]
          },
          "metadata": {
            "tags": []
          },
          "execution_count": 77
        },
        {
          "output_type": "display_data",
          "data": {
            "image/png": "[encoded data removed]",
            "text/plain": [
              "<Figure size 432x288 with 1 Axes>"
            ]
          },
          "metadata": {
            "tags": []
          }
        }
      ]
    },
    {
      "cell_type": "code",
      "metadata": {
        "id": "Tn7TjAWg5ptj",
        "colab_type": "code",
        "colab": {
          "base_uri": "https://localhost:8080/",
          "height": 312
        },
        "outputId": "a44f3e02-648c-4b7a-9eca-1b4ca0509ee4"
      },
      "source": [
        "plt.plot(epochs_hist.history['accuracy'])\n",
        "plt.plot(epochs_hist.history['val_accuracy'])\n",
        "plt.title('Accuracy Progress During Training')\n",
        "plt.xlabel('Epoch')\n",
        "plt.ylabel('Training and Validation Loss')\n",
        "plt.legend(['Training Acc', 'Validation Acc'])"
      ],
      "execution_count": 78,
      "outputs": [
        {
          "output_type": "execute_result",
          "data": {
            "text/plain": [
              "<matplotlib.legend.Legend at 0x7f393258de48>"
            ]
          },
          "metadata": {
            "tags": []
          },
          "execution_count": 78
        },
        {
          "output_type": "display_data",
          "data": {
            "image/png": "[encoded data removed]",
            "text/plain": [
              "<Figure size 432x288 with 1 Axes>"
            ]
          },
          "metadata": {
            "tags": []
          }
        }
      ]
    },
    {
      "cell_type": "code",
      "metadata": {
        "id": "Liufy7IK5GRh",
        "colab_type": "code",
        "colab": {
          "base_uri": "https://localhost:8080/",
          "height": 34
        },
        "outputId": "4254e1b0-20eb-4c5d-982a-4eae977f641a"
      },
      "source": [
        "scores = model.evaluate(X_test, y_test )"
      ],
      "execution_count": 79,
      "outputs": [
        {
          "output_type": "stream",
          "text": [
            "171/171 [==============================] - 0s 64us/sample - loss: 0.2517 - accuracy: 0.9298\n"
          ],
          "name": "stdout"
        }
      ]
    },
    {
      "cell_type": "code",
      "metadata": {
        "id": "pULA-qy_5Hba",
        "colab_type": "code",
        "colab": {
          "base_uri": "https://localhost:8080/",
          "height": 51
        },
        "outputId": "ec345329-6119-4669-b2b9-23ac07d073c0"
      },
      "source": [
        "\n",
        "print(\"\\n%s: %.2f%%\" % (model.metrics_names, scores[1]*100))"
      ],
      "execution_count": 80,
      "outputs": [
        {
          "output_type": "stream",
          "text": [
            "\n",
            "['loss', 'accuracy']: 92.98%\n"
          ],
          "name": "stdout"
        }
      ]
    },
    {
      "cell_type": "code",
      "metadata": {
        "id": "UZEF9tTp5MGr",
        "colab_type": "code",
        "colab": {}
      },
      "source": [
        "predictions = model.predict(X_test)\n"
      ],
      "execution_count": 0,
      "outputs": []
    },
    {
      "cell_type": "code",
      "metadata": {
        "id": "axu_FLUO5PVc",
        "colab_type": "code",
        "colab": {}
      },
      "source": [
        "y_pred = (predictions > 0.5)"
      ],
      "execution_count": 0,
      "outputs": []
    },
    {
      "cell_type": "code",
      "metadata": {
        "id": "hiuXU45t5Qye",
        "colab_type": "code",
        "colab": {
          "base_uri": "https://localhost:8080/",
          "height": 51
        },
        "outputId": "e211211c-f6a4-4744-d14a-b31024cc802c"
      },
      "source": [
        "confusion_matrix(y_test, y_pred)"
      ],
      "execution_count": 83,
      "outputs": [
        {
          "output_type": "execute_result",
          "data": {
            "text/plain": [
              "array([[ 54,  10],\n",
              "       [  2, 105]])"
            ]
          },
          "metadata": {
            "tags": []
          },
          "execution_count": 83
        }
      ]
    }
  ]
}